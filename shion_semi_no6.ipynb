{
  "nbformat": 4,
  "nbformat_minor": 0,
  "metadata": {
    "colab": {
      "name": "shion_semi_no6.ipynb",
      "provenance": [],
      "collapsed_sections": []
    },
    "kernelspec": {
      "name": "python3",
      "display_name": "Python 3"
    },
    "language_info": {
      "name": "python"
    }
  },
  "cells": [
    {
      "cell_type": "code",
      "metadata": {
        "id": "LoLxfifEe_RD"
      },
      "source": [
        "import numpy as np\n",
        "import matplotlib.pyplot as plt\n",
        "from collections import OrderedDict\n"
      ],
      "execution_count": 137,
      "outputs": []
    },
    {
      "cell_type": "code",
      "metadata": {
        "id": "FRc2Hvs2fKAm",
        "colab": {
          "base_uri": "https://localhost:8080/"
        },
        "outputId": "787fcf58-a29e-450a-a8c3-8b8fb2dfacba"
      },
      "source": [
        "!git clone https://github.com/oreilly-japan/deep-learning-from-scratch.git"
      ],
      "execution_count": 51,
      "outputs": [
        {
          "output_type": "stream",
          "text": [
            "Cloning into 'deep-learning-from-scratch'...\n",
            "remote: Enumerating objects: 453, done.\u001b[K\n",
            "remote: Total 453 (delta 0), reused 0 (delta 0), pack-reused 453\u001b[K\n",
            "Receiving objects: 100% (453/453), 5.52 MiB | 33.43 MiB/s, done.\n",
            "Resolving deltas: 100% (235/235), done.\n"
          ],
          "name": "stdout"
        }
      ]
    },
    {
      "cell_type": "code",
      "metadata": {
        "id": "UgyME9YGNoFZ"
      },
      "source": [
        "from deep_learning_scratch.dataset import mnist"
      ],
      "execution_count": 138,
      "outputs": []
    },
    {
      "cell_type": "code",
      "metadata": {
        "id": "Ug5HasYkRN-q"
      },
      "source": [
        "class Sigmoid:\n",
        "  def __init__(self):\n",
        "    self.out = None\n",
        "\n",
        "  def forward(self,x):\n",
        "    out = 1/(1+np.exp(-x))\n",
        "    self.out = out\n",
        "    return out\n",
        "\n",
        "  def backward(self,dout):\n",
        "    dx = dout*(1-self.out)*self*out\n",
        "    return dx\n"
      ],
      "execution_count": 139,
      "outputs": []
    },
    {
      "cell_type": "code",
      "metadata": {
        "id": "_r2RCUy4RS8K"
      },
      "source": [
        "#Relu\n",
        "class Relu:\n",
        "  def __init__(self):\n",
        "    self.mask = None\n",
        "  def forward(self,x):\n",
        "    self.mask = (x<=0)\n",
        "    out = x.copy()\n",
        "    out[self.mask] = 0\n",
        "    return out\n",
        "\n",
        "  def backward(self,dout):\n",
        "    dout[self.mask] = 0\n",
        "    return dout  \n"
      ],
      "execution_count": 140,
      "outputs": []
    },
    {
      "cell_type": "code",
      "metadata": {
        "id": "5H6QqXgHRToT"
      },
      "source": [
        "class Affine:\n",
        "  def __init__(self,w,b):\n",
        "    self.w = w\n",
        "    self.b = b\n",
        "    self.db = None\n",
        "    self.dw = None\n",
        "    self.x = None\n",
        "\n",
        "  def forward(self,x):\n",
        "    self.x = x\n",
        "    out = np.dot(x,self.w) + self.b\n",
        "    return out\n",
        "\n",
        "  def backward(self,dout):\n",
        "    self.db = np.sum(dout,axis=0)\n",
        "    self.dw = np.dot(self.x.T,dout)\n",
        "    dx = np.dot(dout,self.w.T)\n",
        "    return dx"
      ],
      "execution_count": 141,
      "outputs": []
    },
    {
      "cell_type": "code",
      "metadata": {
        "id": "r-fVO1tJRXZ0"
      },
      "source": [
        "def softmax(x):\n",
        "  m = np.max(x,axis=1,keepdims = True)\n",
        "  x -= m\n",
        "  return np.exp(x)/np.sum(np.exp(x),axis=1,keepdims=True)\n",
        "\n",
        "\n",
        "def cross_entropy_error(y,t):\n",
        "  if y.ndim == 1:\n",
        "        t = t.reshape(1, t.size)\n",
        "        y = y.reshape(1, y.size)\n",
        "        \n",
        "    # 教師データがone-hot-vectorの場合、正解ラベルのインデックスに変換\n",
        "  if t.size == y.size:\n",
        "      t = t.argmax(axis=1)\n",
        "             \n",
        "  batch_size = y.shape[0]\n",
        "  return -np.sum(np.log(y[np.arange(batch_size), t] + 1e-7)) / batch_size\n",
        "\n",
        "class SoftmaxWithLoss:\n",
        "  def __init__(self):\n",
        "    self.y = None\n",
        "    self.t = None\n",
        "  def forward(self,x,t):\n",
        "    y = softmax(x)\n",
        "    self.y = y\n",
        "    self.t = t\n",
        "    return cross_entropy_error(y,t)\n",
        "\n",
        "  def backward(self,dout=1):\n",
        "    batch_size = self.t.shape[0]\n",
        "    dx = (self.y-self.t) / batch_size\n",
        "    return dx\n",
        "    "
      ],
      "execution_count": 142,
      "outputs": []
    },
    {
      "cell_type": "markdown",
      "metadata": {
        "id": "adSTecCJhx47"
      },
      "source": [
        "SGD部分をクラスに分けて実装"
      ]
    },
    {
      "cell_type": "code",
      "metadata": {
        "id": "_Q3RRRCzeqY5"
      },
      "source": [
        "#最適化クラスの実装\n",
        "class SGD:\n",
        "  def __init__(self,learning_rate=0.01):\n",
        "    self.lr= learning_rate\n",
        "\n",
        "  def update(self,params,grads):\n",
        "    for key in params.keys():\n",
        "      params[key] -= self.lr * grads[key]\n"
      ],
      "execution_count": 143,
      "outputs": []
    },
    {
      "cell_type": "code",
      "metadata": {
        "id": "D1YH67e-e2Mz"
      },
      "source": [
        "#クラスを用いたNNの実装\n",
        "class FiveLayerNet:\n",
        "  def __init__(self,input_size=784,hidden_size_list= [100,100,100], output_size = 10,weight_init_std=0.01):\n",
        "    self.input_size = input_size\n",
        "    self.hidden_size_list = hidden_size_list\n",
        "    self.output_size = output_size\n",
        "    self.layer_size_list = [input_size]+hidden_size_list+[output_size]\n",
        "    self.layers_num = 1 + len(hidden_size_list)\n",
        "    self.weight_init_std = weight_init_std\n",
        "    if self.weight_init_std == 'Xavier':\n",
        "      weight_init_std_list = [1/np.sqrt(self.layer_size_list[i]) for i in range(self.layers_num)]\n",
        "\n",
        "    elif self.weight_init_std == 'He':\n",
        "      weight_init_std_list = [np.sqrt(2/self.layer_size_list[i]) for i in range(self.layers_num)]\n",
        "\n",
        "    else:\n",
        "      weight_init_std_list = [weight_init_std for i in range(self.layers_num)]\n",
        "\n",
        "    self.params = {}\n",
        "    for i in range(self.layers_num):\n",
        "      self.params['W'+str(i)] = weight_init_std_list[i]*np.random.randn(self.layer_size_list[i],self.layer_size_list[i+1])\n",
        "      self.params['b'+str(i)] = np.zeros(self.layer_size_list[i+1])\n",
        "\n",
        "    self.layers = OrderedDict()  \n",
        "    for i in range(self.layers_num-1):\n",
        "      self.layers['Affine'+str(i)] = Affine(self.params['W'+str(i)],self.params['b'+str(i)])\n",
        "      self.layers['Relu'] = Relu()\n",
        "\n",
        "    self.layers['Affine'+str(self.layers_num-1)] = Affine(self.params['W'+str(self.layers_num-1)],self.params['b'+str(self.layers_num-1)])\n",
        "\n",
        "    self.lastlayer = SoftmaxWithLoss()\n",
        "\n",
        "\n",
        "  def predict(self,x):\n",
        "    for layer in self.layers.values():\n",
        "      x = layer.forward(x)\n",
        "\n",
        "    return  x\n",
        "\n",
        "  def loss(self,x,t):\n",
        "    y = self.predict(x)\n",
        "    l = self.lastlayer.forward(y,t)  \n",
        "\n",
        "    return l\n",
        "\n",
        "  def gradient(self):\n",
        "    layers = list(self.layers.values())\n",
        "    layers.reverse()\n",
        "\n",
        "    dout = 1\n",
        "    dout = self.lastlayer.backward(dout)\n",
        "    for layer in layers:\n",
        "      dout = layer.backward(dout)\n",
        "\n",
        "    grads = {}  \n",
        "    for i in range(self.layers_num):\n",
        "      grads['W'+str(i)] = self.layers['Affine'+str(i)].dw\n",
        "      grads['b'+str(i)] = self.layers['Affine'+str(i)].db\n",
        "\n",
        "    return grads\n",
        "\n",
        "  def accuracy(self,x,t):\n",
        "    y = self.predict(x)    \n",
        "    y = np.argmax(y, axis=1)\n",
        "    if t.ndim != 1:\n",
        "      t = np.argmax(t, axis=1)\n",
        "    accuracy = np.sum(y == t) / x.shape[0]\n",
        "    return accuracy \n",
        "\n",
        "\n",
        "\n",
        "\n",
        "\n",
        "\n",
        "    \n",
        "    "
      ],
      "execution_count": 173,
      "outputs": []
    },
    {
      "cell_type": "code",
      "metadata": {
        "id": "NPJhhxx1e8QH"
      },
      "source": [
        "#学習と可視化\n",
        "class Trainer:\n",
        "  def __init__(self,network,x_train=x_train,t_train=t_train,train_size = 60000,batch_size=100,optimizer=SGD(learning_rate=0.01)):\n",
        "    self.train_size = train_size\n",
        "    self.batch_size = batch_size\n",
        "    self.iters_per_epoch = train_size//batch_size\n",
        "    self.network = network\n",
        "    self.optimizer = optimizer\n",
        "    self.data = {}\n",
        "    (self.data['x_train'],self.data['t_train']) = x_train,t_train\n",
        "    self.train_loss_list = None\n",
        "\n",
        "    \n",
        "\n",
        "  def train(self,epochs):\n",
        "    train_loss_list = []\n",
        "    train_acc_list = []\n",
        "    test_acc_list = []\n",
        "\n",
        "    for epoch in range(epochs):\n",
        "      for iter in range(self.iters_per_epoch):\n",
        "        batch_mask = np.random.choice(self.train_size,self.batch_size)\n",
        "        x_batch = self.data['x_train'][batch_mask]\n",
        "        t_batch = self.data['t_train'][batch_mask]\n",
        "    \n",
        "        Loss = self.network.loss(x_batch,t_batch)\n",
        "        grads = self.network.gradient()\n",
        "\n",
        "\n",
        "        self.optimizer.update(self.network.params,grads)\n",
        "\n",
        "\n",
        "        train_loss_list.append(Loss)\n",
        "      \n",
        "      print('=============='+'epoch'+str(epoch)+'================')\n",
        "      print(f\"{self.network.weight_init_std}:{Loss}\")\n",
        "      \n",
        "\n",
        "    self.train_loss_list = train_loss_list  \n",
        "\n",
        "\n",
        "\n",
        "\n",
        "\n",
        "\n",
        "\n"
      ],
      "execution_count": 175,
      "outputs": []
    },
    {
      "cell_type": "markdown",
      "metadata": {
        "id": "K-CM6IQpfj4Q"
      },
      "source": [
        "様々な最適化手法の実装"
      ]
    },
    {
      "cell_type": "code",
      "metadata": {
        "id": "y_ltRqingQBY"
      },
      "source": [
        "#今回は、f(X,Y) = 1/20 × X^2 + Y^2 が最小となるパラメータを、最適化を用いて求めてみる。\n",
        "def f(x, y):\n",
        "    return x**2 / 20.0 + y**2\n",
        "\n",
        "def df(x, y):\n",
        "    return x / 10.0, 2.0*y\n"
      ],
      "execution_count": 146,
      "outputs": []
    },
    {
      "cell_type": "code",
      "metadata": {
        "id": "dy7yh3dsfohE"
      },
      "source": [
        "#Momentum\n",
        "class Momentum:\n",
        "  def __init__(self, lr=0.01, momentum=0.9):\n",
        "    self.lr = lr\n",
        "    self.momentum = momentum\n",
        "    self.v = None\n",
        "\n",
        "  def update(self, params, grads):\n",
        "    if self.v is None: #初めての学習の時はSGDと同じ\n",
        "      self.v = {}\n",
        "      for key, val in params.items():                                \n",
        "        self.v[key] = np.zeros_like(val)\n",
        "                \n",
        "    for key in params.keys():\n",
        "      self.v[key] = self.momentum*self.v[key] - self.lr*grads[key] \n",
        "      params[key] += self.v[key]\n",
        "\n"
      ],
      "execution_count": 148,
      "outputs": []
    },
    {
      "cell_type": "code",
      "metadata": {
        "id": "QNK_GG7UfseR"
      },
      "source": [
        "#AdaGrad\n",
        "class AdaGrad:\n",
        "  def __init__(self, lr=0.01):\n",
        "    self.lr = lr\n",
        "    self.h = None\n",
        "        \n",
        "  def update(self, params, grads):\n",
        "    if self.h is None: #初めての学習の時は\n",
        "      self.h = {}\n",
        "      for key, val in params.items():\n",
        "        self.h[key] = np.zeros_like(val)\n",
        "            \n",
        "    for key in params.keys():\n",
        "      self.h[key] += grads[key] * grads[key]\n",
        "      params[key] -= self.lr * grads[key] / (np.sqrt(self.h[key]) + 1e-7)"
      ],
      "execution_count": 149,
      "outputs": []
    },
    {
      "cell_type": "code",
      "metadata": {
        "id": "rkt7wpQLf1Nk"
      },
      "source": [
        "#RMSprop\n",
        "class RMSprop:\n",
        "  def __init__(self, lr=0.01, decay_rate = 0.99):\n",
        "    self.lr = lr\n",
        "    self.decay_rate = decay_rate\n",
        "    self.h = None\n",
        "        \n",
        "  def update(self, params, grads):\n",
        "    if self.h is None:\n",
        "      self.h = {}\n",
        "    for key, val in params.items():\n",
        "      self.h[key] = np.zeros_like(val)\n",
        "            \n",
        "    for key in params.keys():\n",
        "      self.h[key] *= self.decay_rate\n",
        "      self.h[key] += (1 - self.decay_rate) * grads[key] * grads[key]\n",
        "      params[key] -= self.lr * grads[key] / (np.sqrt(self.h[key]) + 1e-7)"
      ],
      "execution_count": 150,
      "outputs": []
    },
    {
      "cell_type": "code",
      "metadata": {
        "id": "JvDjxAY5fv6b"
      },
      "source": [
        "#Adam\n",
        "class Adam:\n",
        "  def __init__(self, lr=0.001, beta1=0.9, beta2=0.999):\n",
        "        self.lr = lr\n",
        "        self.beta1 = beta1\n",
        "        self.beta2 = beta2\n",
        "        self.iter = 0\n",
        "        self.m = None\n",
        "        self.v = None\n",
        "        \n",
        "  def update(self, params, grads):\n",
        "        if self.m is None:\n",
        "            self.m, self.v = {}, {}\n",
        "            for key, val in params.items():\n",
        "                self.m[key] = np.zeros_like(val)\n",
        "                self.v[key] = np.zeros_like(val)\n",
        "        \n",
        "        self.iter += 1\n",
        "        lr_t  = self.lr * np.sqrt(1.0 - self.beta2**self.iter) / (1.0 - self.beta1**self.iter)         \n",
        "        \n",
        "        for key in params.keys():\n",
        "            self.m[key] = self.beta1*self.m[key] + (1 - self.beta1) * grads[key] \n",
        "            self.v[key] += (1 - self.beta2) * (grads[key]**2 - self.v[key]) #上の式を変形させただけ\n",
        "            \n",
        "            params[key] -= lr_t * self.m[key] / (np.sqrt(self.v[key]) + 1e-7)\n",
        "            \n",
        "            "
      ],
      "execution_count": 151,
      "outputs": []
    },
    {
      "cell_type": "code",
      "metadata": {
        "id": "OAxF8nuRgNvA",
        "colab": {
          "base_uri": "https://localhost:8080/",
          "height": 283
        },
        "outputId": "50eaa77c-5107-4332-b7ca-6bd7f1838f7c"
      },
      "source": [
        "#各手法での学習過程\n",
        "init_pos = (-7.0, 2.0) #x,y（パラメータ）の初期値\n",
        "params = {}\n",
        "params['x'], params['y'] = init_pos[0], init_pos[1]\n",
        "grads = {}\n",
        "grads['x'], grads['y'] = 0, 0\n",
        "\n",
        "#optimizer = SGD(learning_rate=0.95)\n",
        "#optimizer = Momentum(lr = 0.1)\n",
        "#optimizer = AdaGrad(lr=1.5)\n",
        "#optimizer = RMSprop(lr=)\n",
        "optimizer = Adam(lr=0.3)\n",
        "\n",
        "\n",
        "x_history = []\n",
        "y_history = []\n",
        "\n",
        "for i in range(30):\n",
        "  x_history.append(params['x'])\n",
        "  y_history.append(params['y'])\n",
        "        \n",
        "  grads['x'], grads['y'] = df(params['x'], params['y'])\n",
        "  optimizer.update(params, grads)\n",
        "    \n",
        "\n",
        "  x = np.arange(-10, 10, 0.01)\n",
        "  y = np.arange(-5, 5, 0.01)\n",
        "    \n",
        "  X, Y = np.meshgrid(x, y) \n",
        "  Z = f(X, Y)\n",
        "    \n",
        "  # for simple contour line  \n",
        "  mask = Z > 7\n",
        "  Z[mask] = 0\n",
        "    \n",
        "  # plot \n",
        "\n",
        "  plt.plot(x_history, y_history, 'o-', color=\"red\")\n",
        "  plt.contour(X, Y, Z)\n",
        "  plt.ylim(-10, 10)\n",
        "  plt.xlim(-10, 10)\n",
        "  plt.plot(0, 0, '+')\n",
        "  plt.xlabel(\"x\")\n",
        "  plt.ylabel(\"y\")\n",
        "    \n",
        "plt.show()"
      ],
      "execution_count": 152,
      "outputs": [
        {
          "output_type": "display_data",
          "data": {
            "image/png": "[encoded data removed]",
            "text/plain": [
              "<Figure size 432x288 with 1 Axes>"
            ]
          },
          "metadata": {
            "tags": [],
            "needs_background": "light"
          }
        }
      ]
    },
    {
      "cell_type": "markdown",
      "metadata": {
        "id": "8BZ4aECIf4Oa"
      },
      "source": [
        "アクティベーション分布と初期値"
      ]
    },
    {
      "cell_type": "code",
      "metadata": {
        "id": "aR6cv-WwJgni"
      },
      "source": [
        "def ReLU(x):\n",
        "  return np.maximum(0,x)"
      ],
      "execution_count": 153,
      "outputs": []
    },
    {
      "cell_type": "code",
      "metadata": {
        "id": "Dc8wrDsMgEhk",
        "colab": {
          "base_uri": "https://localhost:8080/",
          "height": 281
        },
        "outputId": "d369bcbd-9adc-4a28-f0c3-f459f4ab71b4"
      },
      "source": [
        "#今回は5層NN、初期・中間・出力ノードともに100個（つまり重みパラメータは100×100）におけるアクティベーションを観察する。\n",
        "#初期値の標準偏差1\n",
        "input_data = np.random.randn(1000, 100)  # 1000個のデータ\n",
        "node_num = 100  # 各隠れ層のノード（ニューロン）の数\n",
        "hidden_layer_size = 5  # 隠れ層が5層\n",
        "activations = {}  # ここにアクティベーションの結果を格納する\n",
        "\n",
        "x = input_data\n",
        "\n",
        "for i in range(hidden_layer_size):\n",
        "    if i != 0:\n",
        "        x = activations[i-1]\n",
        "\n",
        "    # 初期値の値をいろいろ変えて実験しよう！\n",
        "    #w = np.random.randn(node_num, node_num) * 1\n",
        "    #w = np.random.randn(node_num, node_num) * 0.01\n",
        "    #w = np.random.randn(node_num, node_num) * np.sqrt(1.0 / node_num)\n",
        "    w = np.random.randn(node_num, node_num) * np.sqrt(2.0 / node_num)\n",
        "\n",
        "\n",
        "    a = np.dot(x, w)\n",
        "\n",
        "\n",
        "    # 活性化関数の種類も変えて実験しよう！\n",
        "    #z = sigmoid(a)\n",
        "    z = ReLU(a)\n",
        "    # z = tanh(a)\n",
        "\n",
        "    activations[i] = z\n",
        "\n",
        "# ヒストグラムを描画\n",
        "for i, a in activations.items():\n",
        "    plt.subplot(1, len(activations), i+1)\n",
        "    plt.title(str(i+1) + \"-layer\")\n",
        "    if i != 0: plt.yticks([], [])\n",
        "    # plt.xlim(0.1, 1)\n",
        "    # plt.ylim(0, 7000)\n",
        "    plt.hist(a.flatten(), 30, range=(0,1))\n",
        "plt.show()\n"
      ],
      "execution_count": 154,
      "outputs": [
        {
          "output_type": "display_data",
          "data": {
            "image/png": "[encoded data removed]",
            "text/plain": [
              "<Figure size 432x288 with 5 Axes>"
            ]
          },
          "metadata": {
            "tags": [],
            "needs_background": "light"
          }
        }
      ]
    },
    {
      "cell_type": "code",
      "metadata": {
        "id": "2bDPj2xWhpOf"
      },
      "source": [
        "#Heの初期値"
      ],
      "execution_count": null,
      "outputs": []
    },
    {
      "cell_type": "markdown",
      "metadata": {
        "id": "pcRZIpyliHxh"
      },
      "source": [
        "MNISTデータセットによる初期値に依存した学習の比較"
      ]
    },
    {
      "cell_type": "code",
      "metadata": {
        "id": "YbKx4xNQh3wz",
        "colab": {
          "base_uri": "https://localhost:8080/",
          "height": 1000
        },
        "outputId": "caebc5da-91bb-47b4-e55c-808f32aa2afb"
      },
      "source": [
        "((x_train,t_train),(x_test,t_test)) = mnist.load_mnist(normalize=True,one_hot_label=True)\n",
        "\n",
        "\n",
        "trainer_normal = Trainer(network=FiveLayerNet(weight_init_std=0.01))\n",
        "trainer_xavier = Trainer(network=FiveLayerNet(weight_init_std='Xavier'))\n",
        "trainer_he = Trainer(network=FiveLayerNet(weight_init_std='He'))\n",
        "\n",
        "trainer_normal.train(epochs=10)\n",
        "trainer_xavier.train(epochs=10)\n",
        "trainer_he.train(epochs=10)\n",
        "\n"
      ],
      "execution_count": 176,
      "outputs": [
        {
          "output_type": "stream",
          "text": [
            "==============epoch0================\n",
            "0.01:2.2997918111835562\n",
            "==============epoch1================\n",
            "0.01:2.3002560271215287\n",
            "==============epoch2================\n",
            "0.01:2.3022607176497236\n",
            "==============epoch3================\n",
            "0.01:2.299861545428808\n",
            "==============epoch4================\n",
            "0.01:2.3029753350738407\n",
            "==============epoch5================\n",
            "0.01:2.30148365718165\n",
            "==============epoch6================\n",
            "0.01:2.2844908058949556\n",
            "==============epoch7================\n",
            "0.01:2.3070408174596997\n",
            "==============epoch8================\n",
            "0.01:2.300765171698261\n",
            "==============epoch9================\n",
            "0.01:2.3103375557875676\n",
            "==============epoch0================\n",
            "Xavier:0.5332945360003477\n",
            "==============epoch1================\n",
            "Xavier:0.23274787391643023\n",
            "==============epoch2================\n",
            "Xavier:0.24826705226428306\n",
            "==============epoch3================\n",
            "Xavier:0.3147367871422056\n",
            "==============epoch4================\n",
            "Xavier:0.2646101159942846\n",
            "==============epoch5================\n",
            "Xavier:0.1880093441316694\n",
            "==============epoch6================\n",
            "Xavier:0.23363790347471128\n",
            "==============epoch7================\n",
            "Xavier:0.20385319715109787\n",
            "==============epoch8================\n",
            "Xavier:0.20051077116918567\n",
            "==============epoch9================\n",
            "Xavier:0.09525205563081583\n",
            "==============epoch0================\n",
            "He:0.4145612109449739\n",
            "==============epoch1================\n",
            "He:0.24859952833377882\n",
            "==============epoch2================\n",
            "He:0.16917573878420478\n",
            "==============epoch3================\n",
            "He:0.239559740069635\n",
            "==============epoch4================\n",
            "He:0.24537701350968266\n",
            "==============epoch5================\n",
            "He:0.1496706560731825\n",
            "==============epoch6================\n",
            "He:0.0794805693595964\n",
            "==============epoch7================\n",
            "He:0.12534860079897406\n",
            "==============epoch8================\n",
            "He:0.12471409656491454\n",
            "==============epoch9================\n",
            "He:0.23239769578904174\n"
          ],
          "name": "stdout"
        },
        {
          "output_type": "error",
          "ename": "ValueError",
          "evalue": "ignored",
          "traceback": [
            "\u001b[0;31m---------------------------------------------------------------------------\u001b[0m",
            "\u001b[0;31mValueError\u001b[0m                                Traceback (most recent call last)",
            "\u001b[0;32m<ipython-input-176-852a983d81b0>\u001b[0m in \u001b[0;36m<module>\u001b[0;34m()\u001b[0m\n\u001b[1;32m     14\u001b[0m \u001b[0mx\u001b[0m \u001b[0;34m=\u001b[0m \u001b[0mnp\u001b[0m\u001b[0;34m.\u001b[0m\u001b[0marange\u001b[0m\u001b[0;34m(\u001b[0m\u001b[0;36m1\u001b[0m\u001b[0;34m,\u001b[0m\u001b[0;36m11\u001b[0m\u001b[0;34m)\u001b[0m\u001b[0;34m\u001b[0m\u001b[0;34m\u001b[0m\u001b[0m\n\u001b[1;32m     15\u001b[0m \u001b[0;34m\u001b[0m\u001b[0m\n\u001b[0;32m---> 16\u001b[0;31m \u001b[0mplt\u001b[0m\u001b[0;34m.\u001b[0m\u001b[0mplot\u001b[0m\u001b[0;34m(\u001b[0m\u001b[0mx\u001b[0m\u001b[0;34m,\u001b[0m\u001b[0mtrainer_normal\u001b[0m\u001b[0;34m.\u001b[0m\u001b[0mtrain_loss_list\u001b[0m\u001b[0;34m,\u001b[0m\u001b[0mlabel\u001b[0m\u001b[0;34m=\u001b[0m\u001b[0;34m'std=0.01'\u001b[0m\u001b[0;34m)\u001b[0m\u001b[0;34m\u001b[0m\u001b[0;34m\u001b[0m\u001b[0m\n\u001b[0m\u001b[1;32m     17\u001b[0m \u001b[0mplt\u001b[0m\u001b[0;34m.\u001b[0m\u001b[0mplot\u001b[0m\u001b[0;34m(\u001b[0m\u001b[0mx\u001b[0m\u001b[0;34m,\u001b[0m\u001b[0mtrainer_xavier\u001b[0m\u001b[0;34m.\u001b[0m\u001b[0mtrain_loss_list\u001b[0m\u001b[0;34m,\u001b[0m\u001b[0mlabel\u001b[0m\u001b[0;34m=\u001b[0m\u001b[0;34m'std=Xavier'\u001b[0m\u001b[0;34m)\u001b[0m\u001b[0;34m\u001b[0m\u001b[0;34m\u001b[0m\u001b[0m\n\u001b[1;32m     18\u001b[0m \u001b[0mplt\u001b[0m\u001b[0;34m.\u001b[0m\u001b[0mplot\u001b[0m\u001b[0;34m(\u001b[0m\u001b[0mx\u001b[0m\u001b[0;34m,\u001b[0m\u001b[0mtrainer_he\u001b[0m\u001b[0;34m.\u001b[0m\u001b[0mtrain_loss_list\u001b[0m\u001b[0;34m,\u001b[0m\u001b[0mlabel\u001b[0m\u001b[0;34m=\u001b[0m\u001b[0;34m'std=He'\u001b[0m\u001b[0;34m)\u001b[0m\u001b[0;34m\u001b[0m\u001b[0;34m\u001b[0m\u001b[0m\n",
            "\u001b[0;32m/usr/local/lib/python3.7/dist-packages/matplotlib/pyplot.py\u001b[0m in \u001b[0;36mplot\u001b[0;34m(scalex, scaley, data, *args, **kwargs)\u001b[0m\n\u001b[1;32m   2761\u001b[0m     return gca().plot(\n\u001b[1;32m   2762\u001b[0m         *args, scalex=scalex, scaley=scaley, **({\"data\": data} if data\n\u001b[0;32m-> 2763\u001b[0;31m         is not None else {}), **kwargs)\n\u001b[0m\u001b[1;32m   2764\u001b[0m \u001b[0;34m\u001b[0m\u001b[0m\n\u001b[1;32m   2765\u001b[0m \u001b[0;34m\u001b[0m\u001b[0m\n",
            "\u001b[0;32m/usr/local/lib/python3.7/dist-packages/matplotlib/axes/_axes.py\u001b[0m in \u001b[0;36mplot\u001b[0;34m(self, scalex, scaley, data, *args, **kwargs)\u001b[0m\n\u001b[1;32m   1645\u001b[0m         \"\"\"\n\u001b[1;32m   1646\u001b[0m         \u001b[0mkwargs\u001b[0m \u001b[0;34m=\u001b[0m \u001b[0mcbook\u001b[0m\u001b[0;34m.\u001b[0m\u001b[0mnormalize_kwargs\u001b[0m\u001b[0;34m(\u001b[0m\u001b[0mkwargs\u001b[0m\u001b[0;34m,\u001b[0m \u001b[0mmlines\u001b[0m\u001b[0;34m.\u001b[0m\u001b[0mLine2D\u001b[0m\u001b[0;34m)\u001b[0m\u001b[0;34m\u001b[0m\u001b[0;34m\u001b[0m\u001b[0m\n\u001b[0;32m-> 1647\u001b[0;31m         \u001b[0mlines\u001b[0m \u001b[0;34m=\u001b[0m \u001b[0;34m[\u001b[0m\u001b[0;34m*\u001b[0m\u001b[0mself\u001b[0m\u001b[0;34m.\u001b[0m\u001b[0m_get_lines\u001b[0m\u001b[0;34m(\u001b[0m\u001b[0;34m*\u001b[0m\u001b[0margs\u001b[0m\u001b[0;34m,\u001b[0m \u001b[0mdata\u001b[0m\u001b[0;34m=\u001b[0m\u001b[0mdata\u001b[0m\u001b[0;34m,\u001b[0m \u001b[0;34m**\u001b[0m\u001b[0mkwargs\u001b[0m\u001b[0;34m)\u001b[0m\u001b[0;34m]\u001b[0m\u001b[0;34m\u001b[0m\u001b[0;34m\u001b[0m\u001b[0m\n\u001b[0m\u001b[1;32m   1648\u001b[0m         \u001b[0;32mfor\u001b[0m \u001b[0mline\u001b[0m \u001b[0;32min\u001b[0m \u001b[0mlines\u001b[0m\u001b[0;34m:\u001b[0m\u001b[0;34m\u001b[0m\u001b[0;34m\u001b[0m\u001b[0m\n\u001b[1;32m   1649\u001b[0m             \u001b[0mself\u001b[0m\u001b[0;34m.\u001b[0m\u001b[0madd_line\u001b[0m\u001b[0;34m(\u001b[0m\u001b[0mline\u001b[0m\u001b[0;34m)\u001b[0m\u001b[0;34m\u001b[0m\u001b[0;34m\u001b[0m\u001b[0m\n",
            "\u001b[0;32m/usr/local/lib/python3.7/dist-packages/matplotlib/axes/_base.py\u001b[0m in \u001b[0;36m__call__\u001b[0;34m(self, *args, **kwargs)\u001b[0m\n\u001b[1;32m    214\u001b[0m                 \u001b[0mthis\u001b[0m \u001b[0;34m+=\u001b[0m \u001b[0margs\u001b[0m\u001b[0;34m[\u001b[0m\u001b[0;36m0\u001b[0m\u001b[0;34m]\u001b[0m\u001b[0;34m,\u001b[0m\u001b[0;34m\u001b[0m\u001b[0;34m\u001b[0m\u001b[0m\n\u001b[1;32m    215\u001b[0m                 \u001b[0margs\u001b[0m \u001b[0;34m=\u001b[0m \u001b[0margs\u001b[0m\u001b[0;34m[\u001b[0m\u001b[0;36m1\u001b[0m\u001b[0;34m:\u001b[0m\u001b[0;34m]\u001b[0m\u001b[0;34m\u001b[0m\u001b[0;34m\u001b[0m\u001b[0m\n\u001b[0;32m--> 216\u001b[0;31m             \u001b[0;32myield\u001b[0m \u001b[0;32mfrom\u001b[0m \u001b[0mself\u001b[0m\u001b[0;34m.\u001b[0m\u001b[0m_plot_args\u001b[0m\u001b[0;34m(\u001b[0m\u001b[0mthis\u001b[0m\u001b[0;34m,\u001b[0m \u001b[0mkwargs\u001b[0m\u001b[0;34m)\u001b[0m\u001b[0;34m\u001b[0m\u001b[0;34m\u001b[0m\u001b[0m\n\u001b[0m\u001b[1;32m    217\u001b[0m \u001b[0;34m\u001b[0m\u001b[0m\n\u001b[1;32m    218\u001b[0m     \u001b[0;32mdef\u001b[0m \u001b[0mget_next_color\u001b[0m\u001b[0;34m(\u001b[0m\u001b[0mself\u001b[0m\u001b[0;34m)\u001b[0m\u001b[0;34m:\u001b[0m\u001b[0;34m\u001b[0m\u001b[0;34m\u001b[0m\u001b[0m\n",
            "\u001b[0;32m/usr/local/lib/python3.7/dist-packages/matplotlib/axes/_base.py\u001b[0m in \u001b[0;36m_plot_args\u001b[0;34m(self, tup, kwargs)\u001b[0m\n\u001b[1;32m    340\u001b[0m \u001b[0;34m\u001b[0m\u001b[0m\n\u001b[1;32m    341\u001b[0m         \u001b[0;32mif\u001b[0m \u001b[0mx\u001b[0m\u001b[0;34m.\u001b[0m\u001b[0mshape\u001b[0m\u001b[0;34m[\u001b[0m\u001b[0;36m0\u001b[0m\u001b[0;34m]\u001b[0m \u001b[0;34m!=\u001b[0m \u001b[0my\u001b[0m\u001b[0;34m.\u001b[0m\u001b[0mshape\u001b[0m\u001b[0;34m[\u001b[0m\u001b[0;36m0\u001b[0m\u001b[0;34m]\u001b[0m\u001b[0;34m:\u001b[0m\u001b[0;34m\u001b[0m\u001b[0;34m\u001b[0m\u001b[0m\n\u001b[0;32m--> 342\u001b[0;31m             raise ValueError(f\"x and y must have same first dimension, but \"\n\u001b[0m\u001b[1;32m    343\u001b[0m                              f\"have shapes {x.shape} and {y.shape}\")\n\u001b[1;32m    344\u001b[0m         \u001b[0;32mif\u001b[0m \u001b[0mx\u001b[0m\u001b[0;34m.\u001b[0m\u001b[0mndim\u001b[0m \u001b[0;34m>\u001b[0m \u001b[0;36m2\u001b[0m \u001b[0;32mor\u001b[0m \u001b[0my\u001b[0m\u001b[0;34m.\u001b[0m\u001b[0mndim\u001b[0m \u001b[0;34m>\u001b[0m \u001b[0;36m2\u001b[0m\u001b[0;34m:\u001b[0m\u001b[0;34m\u001b[0m\u001b[0;34m\u001b[0m\u001b[0m\n",
            "\u001b[0;31mValueError\u001b[0m: x and y must have same first dimension, but have shapes (10,) and (6000,)"
          ]
        },
        {
          "output_type": "display_data",
          "data": {
            "image/png": "[encoded data removed]",
            "text/plain": [
              "<Figure size 432x288 with 1 Axes>"
            ]
          },
          "metadata": {
            "tags": [],
            "needs_background": "light"
          }
        }
      ]
    },
    {
      "cell_type": "code",
      "metadata": {
        "colab": {
          "base_uri": "https://localhost:8080/",
          "height": 516
        },
        "id": "KTZ82MHWckLy",
        "outputId": "f5240858-250b-42b4-d747-4c9250565ea5"
      },
      "source": [
        "x = np.arange(1,6001)\n",
        "fig, ax = plt.subplots(figsize=(16, 12))\n",
        "#グラフを重ねるときに、軸によって指定する時にaxを使うらしい\n",
        "#グラフの全体的なレイアウトをいじるときにfigを使う\n",
        "\n",
        "plt.plot(x,trainer_normal.train_loss_list,label='std=0.01')\n",
        "plt.plot(x,trainer_xavier.train_loss_list,label='std=Xavier')\n",
        "plt.plot(x,trainer_he.train_loss_list,label='std=He')\n",
        "plt.xlabel('epoch')\n",
        "plt.ylabel('loss')\n",
        "plt.legend()\n",
        "plt.show()\n",
        "\n"
      ],
      "execution_count": 178,
      "outputs": [
        {
          "output_type": "display_data",
          "data": {
            "image/png": "[encoded data removed]",
            "text/plain": [
              "<Figure size 1152x864 with 1 Axes>"
            ]
          },
          "metadata": {
            "tags": [],
            "needs_background": "light"
          }
        }
      ]
    }
  ]
}