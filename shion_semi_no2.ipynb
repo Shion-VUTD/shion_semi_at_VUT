{
  "nbformat": 4,
  "nbformat_minor": 0,
  "metadata": {
    "colab": {
      "name": "shion_semi_no2.ipynb",
      "provenance": []
    },
    "kernelspec": {
      "name": "python3",
      "display_name": "Python 3"
    }
  },
  "cells": [
    {
      "cell_type": "code",
      "metadata": {
        "id": "mmT0lOpzrOAL",
        "colab": {
          "base_uri": "https://localhost:8080/"
        },
        "outputId": "26d4eb8f-c821-457b-dcb2-f266a4b1d41b"
      },
      "source": [
        "!git clone https://github.com/oreilly-japan/deep-learning-from-scratch.git\n"
      ],
      "execution_count": null,
      "outputs": [
        {
          "output_type": "stream",
          "text": [
            "fatal: destination path 'deep-learning-from-scratch' already exists and is not an empty directory.\n"
          ],
          "name": "stdout"
        }
      ]
    },
    {
      "cell_type": "code",
      "metadata": {
        "id": "n76xQwpGrUx3",
        "colab": {
          "base_uri": "https://localhost:8080/"
        },
        "outputId": "a4c5ff4c-a42e-4319-f688-46905ca8c190"
      },
      "source": [
        "from deep_learning_scratch.dataset import mnist\n",
        "(x_train,t_train),(x_test,t_test) = mnist.load_mnist(normalize=False,one_hot_label=False)\n",
        "print(x_train.shape)"
      ],
      "execution_count": null,
      "outputs": [
        {
          "output_type": "stream",
          "text": [
            "(60000, 784)\n"
          ],
          "name": "stdout"
        }
      ]
    },
    {
      "cell_type": "code",
      "metadata": {
        "id": "uLBEMA2nYwSM"
      },
      "source": [
        "import numpy as np\n",
        "import matplotlib.pyplot as plt\n",
        "import pickle"
      ],
      "execution_count": null,
      "outputs": []
    },
    {
      "cell_type": "code",
      "metadata": {
        "id": "e6yGFpaVX7qG"
      },
      "source": [
        "#パーセプトロンの実装（単純な論理回路）\n",
        "def AND(x1, x2):\n",
        "    x = np.array([x1, x2])\n",
        "    w = np.array([0.5, 0.5])\n",
        "    b = -0.7\n",
        "    tmp = np.sum(w*x) + b\n",
        "    if tmp <= 0:\n",
        "        return 0\n",
        "    else:\n",
        "        return 1\n",
        "\n",
        "def NAND(x1, x2):\n",
        "    x = np.array([x1, x2])\n",
        "    w = np.array([-0.5, -0.5])\n",
        "    b = 0.7\n",
        "    tmp = np.sum(w*x) + b\n",
        "    if tmp <= 0:\n",
        "        return 0\n",
        "    else:\n",
        "        return 1\n",
        "\n",
        "def OR(x1, x2):\n",
        "    x = np.array([x1, x2])\n",
        "    w = np.array([0.5, 0.5])\n",
        "    b = -0.2\n",
        "    tmp = np.sum(w*x) + b\n",
        "    if tmp <= 0:\n",
        "        return 0\n",
        "    else:\n",
        "        return 1        "
      ],
      "execution_count": null,
      "outputs": []
    },
    {
      "cell_type": "code",
      "metadata": {
        "id": "eVbE5Y_uYki6"
      },
      "source": [
        "#XORの実装\n",
        "def XOR(x1, x2):\n",
        "    s1 = NAND(x1, x2)\n",
        "    s2 = OR(x1, x2)\n",
        "    y = AND(s1, s2)\n",
        "    return y"
      ],
      "execution_count": null,
      "outputs": []
    },
    {
      "cell_type": "code",
      "metadata": {
        "colab": {
          "base_uri": "https://localhost:8080/"
        },
        "id": "vC445CETfx1n",
        "outputId": "91749e5b-c6ee-4300-a34b-f8c4593cb620"
      },
      "source": [
        "print(XOR(1,0))"
      ],
      "execution_count": null,
      "outputs": [
        {
          "output_type": "stream",
          "text": [
            "1\n"
          ],
          "name": "stdout"
        }
      ]
    },
    {
      "cell_type": "code",
      "metadata": {
        "colab": {
          "base_uri": "https://localhost:8080/"
        },
        "id": "X2XltDRoidZc",
        "outputId": "067d0744-5a4d-407a-872b-6735e1f86c36"
      },
      "source": [
        "x = np.array([1,1,0,0,-1])\n",
        "print(x > 0)"
      ],
      "execution_count": null,
      "outputs": [
        {
          "output_type": "stream",
          "text": [
            "[ True  True False False False]\n"
          ],
          "name": "stdout"
        }
      ]
    },
    {
      "cell_type": "code",
      "metadata": {
        "id": "dKu1bxQcY1Ro"
      },
      "source": [
        "#活性化関数の定義\n",
        "def step_function(x):\n",
        "    return np.array(x > 0, dtype=np.int)\n",
        "    \n",
        "def relu(x):\n",
        "    return np.maximum(0, x)\n",
        "\n",
        "def sigmoid(x):\n",
        "    return 1 / (1 + np.exp(-x))       "
      ],
      "execution_count": null,
      "outputs": []
    },
    {
      "cell_type": "code",
      "metadata": {
        "colab": {
          "base_uri": "https://localhost:8080/",
          "height": 265
        },
        "id": "nGvMDL_Qa2Fu",
        "outputId": "26801054-422b-4b61-bb54-3cf1b547b72e"
      },
      "source": [
        "#描画\n",
        "x = np.arange(-5.0, 5.0, 0.1)\n",
        "y1 = relu(x)\n",
        "y2 = sigmoid(x)\n",
        "y3 = step_function(x)\n",
        "plt.plot(x, y1)\n",
        "plt.plot(x,y2)\n",
        "plt.plot(x,y3)\n",
        "plt.ylim(0.0, 1.1)\n",
        "plt.show()\n"
      ],
      "execution_count": null,
      "outputs": [
        {
          "output_type": "display_data",
          "data": {
            "image/png": "[encoded data removed]",
            "text/plain": [
              "<Figure size 432x288 with 1 Axes>"
            ]
          },
          "metadata": {
            "tags": [],
            "needs_background": "light"
          }
        }
      ]
    },
    {
      "cell_type": "code",
      "metadata": {
        "id": "SChab-__o6Te"
      },
      "source": [
        "#Softmax関数（次回やります）\n",
        "def softmax(x):\n",
        "    x = x - np.max(x, axis=-1, keepdims=True)   # オーバーフロー対策\n",
        "    return np.exp(x) / np.sum(np.exp(x), axis=-1, keepdims=True)"
      ],
      "execution_count": null,
      "outputs": []
    },
    {
      "cell_type": "code",
      "metadata": {
        "id": "eVnGGz3RpTJr"
      },
      "source": [
        ""
      ],
      "execution_count": null,
      "outputs": []
    },
    {
      "cell_type": "code",
      "metadata": {
        "id": "P7Sf4W72cIAM"
      },
      "source": [
        "#３層ニューラルネットワークの実装\n",
        "def init_network():\n",
        "    with open(\"/content/deep_learning_scratch/ch03/sample_weight.pkl\", 'rb') as f:\n",
        "        network = pickle.load(f)\n",
        "    return network\n",
        "\n",
        "\n",
        "def predict(network, x):\n",
        "    W1, W2, W3 = network['W1'], network['W2'], network['W3']\n",
        "    b1, b2, b3 = network['b1'], network['b2'], network['b3']\n",
        "\n",
        "    a1 = np.dot(x, W1) + b1\n",
        "    z1 = sigmoid(a1)\n",
        "    a2 = np.dot(z1, W2) + b2\n",
        "    z2 = sigmoid(a2)\n",
        "    a3 = np.dot(z2, W3) + b3\n",
        "    y = softmax(a3)\n",
        "\n",
        "    return y"
      ],
      "execution_count": null,
      "outputs": []
    },
    {
      "cell_type": "code",
      "metadata": {
        "colab": {
          "base_uri": "https://localhost:8080/"
        },
        "id": "Np8x_HeMpl_C",
        "outputId": "ada2093b-2c51-4f37-b9c2-544cc03cdeda"
      },
      "source": [
        "#実際に予測してみる\n",
        "x = x_train[0]\n",
        "\n",
        "t = t_train[0]\n",
        "simplenet = init_network()\n",
        "y = predict(simplenet,x)\n",
        "p = np.argmax(y)\n",
        "\n",
        "print(p)\n",
        "print(t)"
      ],
      "execution_count": null,
      "outputs": [
        {
          "output_type": "stream",
          "text": [
            "5\n",
            "5\n"
          ],
          "name": "stdout"
        },
        {
          "output_type": "stream",
          "text": [
            "/usr/local/lib/python3.6/dist-packages/ipykernel_launcher.py:9: RuntimeWarning: overflow encountered in exp\n",
            "  if __name__ == '__main__':\n"
          ],
          "name": "stderr"
        }
      ]
    }
  ]
}