{
  "nbformat": 4,
  "nbformat_minor": 0,
  "metadata": {
    "colab": {
      "name": "shion_semi_no4.ipynb",
      "provenance": []
    },
    "kernelspec": {
      "name": "python3",
      "display_name": "Python 3"
    }
  },
  "cells": [
    {
      "cell_type": "code",
      "metadata": {
        "id": "oJpycsN0nnGl"
      },
      "source": [
        "!git clone https://github.com/oreilly-japan/deep-learning-from-scratch.git"
      ],
      "execution_count": null,
      "outputs": []
    },
    {
      "cell_type": "code",
      "metadata": {
        "id": "0rw0QP1Rn8Oy"
      },
      "source": [
        "import numpy as np\n",
        "import matplotlib.pyplot as plt\n",
        "#from deep_learning_scratch.dataset import mnist "
      ],
      "execution_count": null,
      "outputs": []
    },
    {
      "cell_type": "markdown",
      "metadata": {
        "id": "sC4GTU17oSYH"
      },
      "source": [
        "多次元配列における数値微分"
      ]
    },
    {
      "cell_type": "code",
      "metadata": {
        "id": "OTLAFjyfnI-o"
      },
      "source": [
        "def numerical_grad(f,x):\n",
        "  h = 1e-4\n",
        " \n",
        "  grad = np.zeros_like(x)\n",
        "  for i in range(x.shape[0]):\n",
        "    if x.ndim == 1:\n",
        "      tmp_val = x[i]\n",
        "      x[i] = tmp_val + h\n",
        "      fx1 = f(x)\n",
        "\n",
        "      x[i] = tmp_val - h\n",
        "      fx2 = f(x)\n",
        "\n",
        "      grad[i] = (fx1-fx2) / (2*h)\n",
        "      x[i] = tmp_val\n",
        "\n",
        "    else:\n",
        "      for j in range(x.shape[1]):\n",
        "        tmp_val = x[i][j]\n",
        "        x[i][j] = tmp_val + h\n",
        "        fx1 = f(x)\n",
        "\n",
        "        x[i][j] = tmp_val - h\n",
        "        fx2 = f(x)\n",
        "\n",
        "        grad[i][j] = (fx1-fx2) / (2*h)\n",
        "        x[i][j] = tmp_val\n",
        "\n",
        "  \n",
        "  return grad\n",
        "\n",
        "    \n",
        "  "
      ],
      "execution_count": null,
      "outputs": []
    },
    {
      "cell_type": "code",
      "metadata": {
        "colab": {
          "base_uri": "https://localhost:8080/"
        },
        "id": "TYoIjw4tnl8a",
        "outputId": "7c95f8c5-7761-44ee-e45e-916765408c08"
      },
      "source": [
        "x = np.array([[1.,2.],[3.,4.]])\n",
        "def circle(x):\n",
        "  return np.sum(x**2)\n",
        "\n",
        "print(numerical_grad(circle,x))\n",
        "\n"
      ],
      "execution_count": null,
      "outputs": [
        {
          "output_type": "stream",
          "text": [
            "[[2. 4.]\n",
            " [6. 8.]]\n"
          ],
          "name": "stdout"
        }
      ]
    },
    {
      "cell_type": "markdown",
      "metadata": {
        "id": "rCnLApo2oXzC"
      },
      "source": [
        "クラス定義"
      ]
    },
    {
      "cell_type": "code",
      "metadata": {
        "id": "0_nbDEX4nk43"
      },
      "source": [
        "#次のようなクラスを作ってみる\n",
        "class Hoge:\n",
        "  def __init__(self):\n",
        "    self.hoge = -1\n",
        "  def progress(self,recent_score):\n",
        "    if self.hoge == -1:\n",
        "      print('初参加です')\n",
        "    elif recent_score > self.hoge:\n",
        "      print('Highestを更新しました')\n",
        "    else:\n",
        "      print('精進が足りないようです') \n",
        "\n",
        "    self.hoge = max([self.hoge,recent_score])   \n"
      ],
      "execution_count": null,
      "outputs": []
    },
    {
      "cell_type": "code",
      "metadata": {
        "colab": {
          "base_uri": "https://localhost:8080/"
        },
        "id": "2q2LPYCGxp3_",
        "outputId": "7ec9009b-e089-42d0-9a7b-1daf58fc793a"
      },
      "source": [
        "hoge = Hoge()\n",
        "hoge.progress(100)\n",
        "hoge.progress(300)\n",
        "hoge.progress(200)"
      ],
      "execution_count": null,
      "outputs": [
        {
          "output_type": "stream",
          "text": [
            "初参加です\n",
            "Highestを更新しました\n",
            "精進が足りないようです\n"
          ],
          "name": "stdout"
        }
      ]
    },
    {
      "cell_type": "code",
      "metadata": {
        "colab": {
          "base_uri": "https://localhost:8080/"
        },
        "id": "X8v5tKw4zw_K",
        "outputId": "23fe6067-3421-49a5-851f-11f162f1ab61"
      },
      "source": [
        "#勾配降下法のめちゃくちゃ単純なやつ\n",
        "#勾配計算\n",
        "def numerical_gradient_val(f,x,h = 1e-4):\n",
        "  return (f(x+h) - f(x-h))/ (2*h)\n",
        "\n",
        "#損失関数の代わり\n",
        "def circle(x,y):\n",
        "  return x ** 2 + y ** 2\n",
        "\n",
        "\n",
        "#勾配降下法\n",
        "lr = 0.1\n",
        "iters = 1000\n",
        "\n",
        "#初期値\n",
        "(x,y) = (10,10)\n",
        "\n",
        "#学習\n",
        "for i in range(iters):\n",
        "  #xで偏微分\n",
        "  circle_x = lambda x:circle(x,y)\n",
        "  dx = numerical_gradient_val(circle_x,x)\n",
        "\n",
        "  #yで偏微分\n",
        "  circle_y = lambda y:circle(x,y)\n",
        "  dy = numerical_gradient_val(circle_y,y)\n",
        "\n",
        "  #パラメータの更新\n",
        "  x -= lr*dx\n",
        "  y -= lr*dy\n",
        "\n",
        "print(x,y)\n"
      ],
      "execution_count": null,
      "outputs": [
        {
          "output_type": "stream",
          "text": [
            "6.6836193494284636e-21 6.6836193494284636e-21\n"
          ],
          "name": "stdout"
        }
      ]
    },
    {
      "cell_type": "code",
      "metadata": {
        "id": "20K_f6W-yPD0"
      },
      "source": [
        "#インスタンスを保持する場合\n",
        "#SGDをクラス化してみよう\n",
        "class SGD:\n",
        "  #ハイパーパラメータの格納\n",
        "  def __init__(self,learning_rate):\n",
        "      self.lr = learning_rate \n",
        "\n",
        "  #パラメータの更新    \n",
        "  def update(self,params,grads):\n",
        "    for i in range(len(params)):\n",
        "      params[i] -= self.lr * grads[i]\n"
      ],
      "execution_count": null,
      "outputs": []
    },
    {
      "cell_type": "code",
      "metadata": {
        "colab": {
          "base_uri": "https://localhost:8080/"
        },
        "id": "w5r3C9cQ1fRL",
        "outputId": "c4e4a490-db40-49f5-8384-bb13e04da06f"
      },
      "source": [
        "params = [10,10]\n",
        "optimizer = SGD(learning_rate=0.1)\n",
        "for i in range(iters):\n",
        "  grads = []\n",
        "  for i in range(len(params)):\n",
        "    #勾配計算\n",
        "    x = params[i]\n",
        "    circle_x = lambda x:circle(x,y)\n",
        "    grads.append(numerical_gradient_val(circle_x,x))\n",
        "    \n",
        "  #パラメータの更新\n",
        "  optimizer.update(params,grads)\n",
        "\n",
        "print(params)    \n",
        "  "
      ],
      "execution_count": null,
      "outputs": [
        {
          "output_type": "stream",
          "text": [
            "[6.696854239229312e-21, 6.696854239229312e-21]\n"
          ],
          "name": "stdout"
        }
      ]
    },
    {
      "cell_type": "markdown",
      "metadata": {
        "id": "efWpJxF2of5E"
      },
      "source": [
        "ニューラルネットワークのクラス実装"
      ]
    },
    {
      "cell_type": "code",
      "metadata": {
        "id": "SFlRcWlooihD"
      },
      "source": [
        "#中間層ノード数50の、mnist画像解析用2層NNを実装してください。\n",
        "#名称は、すでに指示があるものについてはそれに従い、指示のないものはできるだけ見やすいものにしてください（競プロコードだと泣いてしまいます）\n",
        "\n",
        "class TwoLayerNet:\n",
        "  def __init__(self,weight_init_std = 0.01):\n",
        "  #====インスタンスを格納してください====\n",
        "   #ハイパーパラメータを渡してください\n",
        "   #パラメータDictを保持してください\n",
        "   #パラメータ初期値は、重みW1,W2: 標準偏差=weight_init_std の正規分布に設定してください\n",
        "                #バイアスb1,b2: ゼロ行列に設定してください\n",
        "   \n",
        "  #=================================\n",
        "\n",
        "  #必要な関数（スライド参照）を定義してください"
      ],
      "execution_count": null,
      "outputs": []
    },
    {
      "cell_type": "markdown",
      "metadata": {
        "id": "QrOy-JqSq1LV"
      },
      "source": [
        "学習"
      ]
    },
    {
      "cell_type": "code",
      "metadata": {
        "id": "brsRMTXqq20p"
      },
      "source": [
        "epochs = 10\n",
        "train_size = 60000\n",
        "batch_size = 100\n",
        "learning_rate = 0.1\n",
        "\n",
        "#====データをロードしてください====\n",
        "\n",
        "#=============================\n",
        "\n",
        "#学習\n",
        "for epoch in epochs:\n",
        "  for iter in iters_per_epoch:\n",
        "    #====スライドに従って学習を行ってください====\n",
        "    #======================================\n",
        "\n",
        "  #====途中過程をtrain_loss_list,train_acc_list,test_acc_listに格納してください====\n",
        "  #===========================================\n",
        "\n",
        "\n",
        "#ちゃんと出力されたらOK\n",
        "print('loss:',train_loss_list[-1])\n",
        "print('train_acc:',train_acc_list[-1])  \n",
        "print('test_acc:',test_acc_list[-1])"
      ],
      "execution_count": null,
      "outputs": []
    },
    {
      "cell_type": "markdown",
      "metadata": {
        "id": "dx2wdoc8r6Ao"
      },
      "source": [
        "可視化"
      ]
    },
    {
      "cell_type": "code",
      "metadata": {
        "id": "uMVtPaX4sIja"
      },
      "source": [
        "x = np.arange(1,epochs+1)\n",
        "\n",
        "plt.plot(x,train_loss_list)\n",
        "plt.xlabel('epoch')\n",
        "plt.ylabel('loss')\n",
        "plt.show()\n",
        "\n",
        "plt.plot(x,train_acc_list,'b',label='trsin')\n",
        "plt.plot(x,test_acc_list,'r',label='test')\n",
        "plt.xlabel('epoch')\n",
        "plt.ylabel('loss')\n",
        "plt.legend()\n",
        "plt.show()\n"
      ],
      "execution_count": null,
      "outputs": []
    }
  ]
}