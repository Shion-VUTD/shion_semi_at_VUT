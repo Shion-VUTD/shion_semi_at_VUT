{
  "nbformat": 4,
  "nbformat_minor": 0,
  "metadata": {
    "colab": {
      "name": "shion_semi_no3.ipynb",
      "provenance": []
    },
    "kernelspec": {
      "name": "python3",
      "display_name": "Python 3"
    }
  },
  "cells": [
    {
      "cell_type": "code",
      "metadata": {
        "colab": {
          "base_uri": "https://localhost:8080/"
        },
        "id": "NXfni8KKH9gb",
        "outputId": "d9377fdd-3aa5-4ae4-c75e-30da2006bbd5"
      },
      "source": [
        "!git clone https://github.com/oreilly-japan/deep-learning-from-scratch.git"
      ],
      "execution_count": 12,
      "outputs": [
        {
          "output_type": "stream",
          "text": [
            "Cloning into 'deep-learning-from-scratch'...\n",
            "remote: Enumerating objects: 7, done.\u001b[K\n",
            "remote: Counting objects: 100% (7/7), done.\u001b[K\n",
            "remote: Compressing objects: 100% (6/6), done.\u001b[K\n",
            "remote: Total 453 (delta 1), reused 5 (delta 1), pack-reused 446\u001b[K\n",
            "Receiving objects: 100% (453/453), 5.52 MiB | 9.73 MiB/s, done.\n",
            "Resolving deltas: 100% (233/233), done.\n"
          ],
          "name": "stdout"
        }
      ]
    },
    {
      "cell_type": "code",
      "metadata": {
        "colab": {
          "base_uri": "https://localhost:8080/"
        },
        "id": "EkagCFehQk95",
        "outputId": "de0f92c1-70a7-455e-f755-5813c48e1151"
      },
      "source": [
        "!pip install pillow\n",
        "import numpy as np\n",
        "import matplotlib.pyplot as plt\n",
        "import pickle"
      ],
      "execution_count": 13,
      "outputs": [
        {
          "output_type": "stream",
          "text": [
            "Requirement already satisfied: pillow in /usr/local/lib/python3.7/dist-packages (7.0.0)\n"
          ],
          "name": "stdout"
        }
      ]
    },
    {
      "cell_type": "markdown",
      "metadata": {
        "id": "MjNC3rj1Hs2G"
      },
      "source": [
        "スライド４枚目：Softmax関数の実装"
      ]
    },
    {
      "cell_type": "code",
      "metadata": {
        "id": "cVPw806LzQq1"
      },
      "source": [
        "def softmax(x):\n",
        "  x -= np.max(x,axis=-1,keepdims=True)\n",
        "  return np.exp(x)/np.sum(np.exp(x),axis=-1,keepdims=True)\n",
        "\n",
        "#'-1'の意味\n",
        "#'keepdims'の意味"
      ],
      "execution_count": 14,
      "outputs": []
    },
    {
      "cell_type": "code",
      "metadata": {
        "colab": {
          "base_uri": "https://localhost:8080/"
        },
        "id": "H8oy_9HYI2uc",
        "outputId": "437cca65-35a9-40f7-8f70-2200c04399a4"
      },
      "source": [
        "print(softmax([0,1,2,3]))"
      ],
      "execution_count": 15,
      "outputs": [
        {
          "output_type": "stream",
          "text": [
            "[0.0320586  0.08714432 0.23688282 0.64391426]\n"
          ],
          "name": "stdout"
        }
      ]
    },
    {
      "cell_type": "code",
      "metadata": {
        "colab": {
          "base_uri": "https://localhost:8080/"
        },
        "id": "Ok7Fqa21JLX8",
        "outputId": "8600333b-d884-4fe9-8114-21441053ef5b"
      },
      "source": [
        "arr = np.arange(12).reshape(3,4)\n",
        "print(arr)\n",
        "print(softmax(arr))"
      ],
      "execution_count": 17,
      "outputs": [
        {
          "output_type": "stream",
          "text": [
            "[[ 0  1  2  3]\n",
            " [ 4  5  6  7]\n",
            " [ 8  9 10 11]]\n",
            "[[0.0320586  0.08714432 0.23688282 0.64391426]\n",
            " [0.0320586  0.08714432 0.23688282 0.64391426]\n",
            " [0.0320586  0.08714432 0.23688282 0.64391426]]\n"
          ],
          "name": "stdout"
        }
      ]
    },
    {
      "cell_type": "markdown",
      "metadata": {
        "id": "DDICg4ROJcds"
      },
      "source": [
        "スライド７枚目：mnistデータセットの読み込み"
      ]
    },
    {
      "cell_type": "code",
      "metadata": {
        "id": "Iit3F0spMBCL"
      },
      "source": [
        "from deep_learning_scratch.dataset import mnist\n",
        "from PIL import Image"
      ],
      "execution_count": 18,
      "outputs": []
    },
    {
      "cell_type": "code",
      "metadata": {
        "colab": {
          "base_uri": "https://localhost:8080/"
        },
        "id": "OxOGkXBXLphq",
        "outputId": "29136598-01e4-4655-90c5-32c9ed73f5cd"
      },
      "source": [
        "(x_train,t_train),(x_test,t_test) = mnist.load_mnist(normalize=False,flatten=True,one_hot_label = False)\n",
        "#形状を見てみる\n",
        "for data in (x_train,t_train, x_test,t_test):\n",
        "  print(data.shape)\n",
        " \n"
      ],
      "execution_count": 21,
      "outputs": [
        {
          "output_type": "stream",
          "text": [
            "(60000, 784)\n",
            "(60000,)\n",
            "(10000, 784)\n",
            "(10000,)\n"
          ],
          "name": "stdout"
        }
      ]
    },
    {
      "cell_type": "code",
      "metadata": {
        "id": "xaF7H07wOEBx"
      },
      "source": [
        "pil_img = Image.fromarray(x_train[0].reshape(28,28))\n",
        "pil_img.show()\n"
      ],
      "execution_count": 26,
      "outputs": []
    },
    {
      "cell_type": "code",
      "metadata": {
        "colab": {
          "base_uri": "https://localhost:8080/"
        },
        "id": "jDIleVQkRZF_",
        "outputId": "69ebe61b-143e-4cf9-e742-8e8f2a20f8e1"
      },
      "source": [
        "print(t_train[0])\n"
      ],
      "execution_count": 27,
      "outputs": [
        {
          "output_type": "stream",
          "text": [
            "5\n"
          ],
          "name": "stdout"
        }
      ]
    },
    {
      "cell_type": "markdown",
      "metadata": {
        "id": "CUP2eSe2SMbJ"
      },
      "source": [
        "スライド１０枚目：３層ニューラルネットワークの推論過程"
      ]
    },
    {
      "cell_type": "code",
      "metadata": {
        "id": "-GCB25bKSrl5"
      },
      "source": [
        "#学習済みパラメータをロード（前と同じ）\n",
        "def init_network():\n",
        "  with open('/content/deep_learning_scratch/ch03/sample_weight.pkl','rb') as f:\n",
        "    network = pickle.load(f)\n",
        "\n",
        "  return network  "
      ],
      "execution_count": 30,
      "outputs": []
    },
    {
      "cell_type": "code",
      "metadata": {
        "id": "pAlXoMTSU7jH"
      },
      "source": [
        "def sigmoid(x):\n",
        "  #復習\n",
        "  return 1/(1+np.exp(-x))"
      ],
      "execution_count": 31,
      "outputs": []
    },
    {
      "cell_type": "code",
      "metadata": {
        "id": "ILm4THJBT4SM"
      },
      "source": [
        "#３層のpredict関数（前と同じ）\n",
        "def predict(x):\n",
        "  #パラメータを取得\n",
        "  network = init_network()\n",
        "  w1,w2,w3 = network['W1'],network['W2'],network['W3']\n",
        "  b1,b2,b3 = network['b1'],network['b2'],network['b3']\n",
        "\n",
        "  a1 = np.dot(x,w1)+b1\n",
        "  z1 = sigmoid(a1)\n",
        "  a2 = np.dot(z1,w2)+b2\n",
        "  z2 = sigmoid(a2)\n",
        "  a3 = np.dot(z2,w3)+b3\n",
        "  y = softmax(a3)\n",
        "  return y"
      ],
      "execution_count": 32,
      "outputs": []
    },
    {
      "cell_type": "code",
      "metadata": {
        "colab": {
          "base_uri": "https://localhost:8080/"
        },
        "id": "C5ukdFYGVbHa",
        "outputId": "bc159e5a-8565-4d34-dbb3-56666efbbda1"
      },
      "source": [
        "#mnistで推論＆可視化\n",
        "train_size = x_train.shape[0]\n",
        "batch_size = 100\n",
        "batch_mask = np.random.choice(train_size,batch_size)\n",
        "x_batch = x_train[batch_mask]\n",
        "t_batch = t_train[batch_mask]\n",
        "\n",
        "#推論(100枚を一度に行う)\n",
        "y_batch = predict(x_batch)\n",
        "\n",
        "#精度はどのくらい？\n",
        "y = np.argmax(y_batch,axis=1)\n",
        "acc = np.sum(y==t_batch) / batch_size\n",
        "print(acc)"
      ],
      "execution_count": 33,
      "outputs": [
        {
          "output_type": "stream",
          "text": [
            "0.94\n"
          ],
          "name": "stdout"
        },
        {
          "output_type": "stream",
          "text": [
            "/usr/local/lib/python3.7/dist-packages/ipykernel_launcher.py:3: RuntimeWarning: overflow encountered in exp\n",
            "  This is separate from the ipykernel package so we can avoid doing imports until\n"
          ],
          "name": "stderr"
        }
      ]
    },
    {
      "cell_type": "markdown",
      "metadata": {
        "id": "ncF8HeuVXnnr"
      },
      "source": [
        "スライド１５、１８枚目：クロスエントロピー誤差の実装"
      ]
    },
    {
      "cell_type": "code",
      "metadata": {
        "id": "pA8KhgJRXaGm"
      },
      "source": [
        "def cross_entropy_error(y,t):\n",
        "  #1次元の場合（データが１つの場合）だけ２次元に直す\n",
        "  if y.ndim == 1:\n",
        "    y = y.reshape(1,-1)\n",
        "    t = t.reshape(1,-1)\n",
        "\n",
        "  #tはyと同じ形状のone_hotベクトル\n",
        "  batch_size = y.shape[0]\n",
        "  return -np.sum(t*np.log(y+1e-7))/ batch_size\n"
      ],
      "execution_count": 34,
      "outputs": []
    },
    {
      "cell_type": "code",
      "metadata": {
        "colab": {
          "base_uri": "https://localhost:8080/"
        },
        "id": "4z5DmG-qZi1c",
        "outputId": "a09960d6-1e60-41b1-dc16-59e81cccc431"
      },
      "source": [
        "print(y_batch.shape)\n",
        "\n",
        "#正解ラベルをone-hotベクトル化\n",
        "t_batch_onehot = np.zeros(y_batch.shape)\n",
        "t_batch_onehot[np.arange(y_batch.shape[0]),t_batch] = 1\n",
        "\n",
        "print(t_batch_onehot.shape)\n",
        "print(cross_entropy_error(y_batch,t_batch_onehot))"
      ],
      "execution_count": 35,
      "outputs": [
        {
          "output_type": "stream",
          "text": [
            "(100, 10)\n",
            "(100, 10)\n",
            "0.24012603656083228\n"
          ],
          "name": "stdout"
        }
      ]
    },
    {
      "cell_type": "markdown",
      "metadata": {
        "id": "_P6B5sCmguhP"
      },
      "source": [
        "勾配の計算"
      ]
    },
    {
      "cell_type": "code",
      "metadata": {
        "id": "RpfugIOLgwLG"
      },
      "source": [
        "def numerical_gradient_val(f,x,h = 1e-4):\n",
        "  return (f(x+h) - f(x-h))/ (2*h)\n",
        "def numerical_gradient_val2(f,x,h = 1e-4):\n",
        "  return (f(x+h) - f(x))/ h\n",
        "\n"
      ],
      "execution_count": 39,
      "outputs": []
    },
    {
      "cell_type": "code",
      "metadata": {
        "id": "JHPWwvw3hTCO"
      },
      "source": [
        "#適当な関数を設定\n",
        "def circle(x,y):\n",
        "  return x ** 2 + y ** 2\n"
      ],
      "execution_count": 40,
      "outputs": []
    },
    {
      "cell_type": "code",
      "metadata": {
        "colab": {
          "base_uri": "https://localhost:8080/"
        },
        "id": "wMTNBR0whsvm",
        "outputId": "788dd98e-83bc-44c4-d3b4-2174fb258988"
      },
      "source": [
        "#(3,4)における勾配を計算\n",
        "#xで偏微分\n",
        "circle_x = lambda x:circle(x,4)\n",
        "dx = numerical_gradient_val(circle_x,3)\n",
        "dx2 = numerical_gradient_val2(circle_x,3)\n",
        "\n",
        "#yで偏微分\n",
        "circle_y = lambda y:circle(3,y)\n",
        "dy = numerical_gradient_val(circle_y,4)\n",
        "dy2 = numerical_gradient_val(circle_y,4)\n",
        "\n",
        "print((dx,dy))\n",
        "print((dx2,dy2))\n",
        "print((2*3,2*4))\n",
        "#丸め誤差のお話\n",
        "#どうしてf(x+h)-f(h)にしないのか問題"
      ],
      "execution_count": 41,
      "outputs": [
        {
          "output_type": "stream",
          "text": [
            "(6.00000000000378, 7.999999999999119)\n",
            "(6.000099999994291, 7.999999999999119)\n",
            "(6, 8)\n"
          ],
          "name": "stdout"
        }
      ]
    },
    {
      "cell_type": "code",
      "metadata": {
        "id": "iAgT6oZ8jUZU",
        "colab": {
          "base_uri": "https://localhost:8080/"
        },
        "outputId": "1d834c4a-dc73-47ed-aaa2-436e024ce2a4"
      },
      "source": [
        "#勾配降下法のめちゃくちゃ単純なやつ\n",
        "lr = 0.1\n",
        "iters = 10000\n",
        "\n",
        "#初期値\n",
        "(x,y) = (10,10)\n",
        "\n",
        "#学習\n",
        "for i in range(iters):\n",
        "  #xで偏微分\n",
        "  circle_x = lambda x:circle(x,y)\n",
        "  dx = numerical_gradient_val(circle_x,x)\n",
        "\n",
        "  #yで偏微分\n",
        "  circle_y = lambda y:circle(x,y)\n",
        "  dy = numerical_gradient_val(circle_y,y)\n",
        "\n",
        "  #パラメータの更新\n",
        "  x -= lr*dx\n",
        "  y -= lr*dy\n",
        "\n",
        "print(x,y)\n"
      ],
      "execution_count": 42,
      "outputs": [
        {
          "output_type": "stream",
          "text": [
            "6.6836193494284636e-21 6.6836193494284636e-21\n"
          ],
          "name": "stdout"
        }
      ]
    }
  ]
}