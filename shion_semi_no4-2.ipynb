{
  "nbformat": 4,
  "nbformat_minor": 0,
  "metadata": {
    "colab": {
      "name": "shion_semi_no4.ipynb",
      "provenance": []
    },
    "kernelspec": {
      "name": "python3",
      "display_name": "Python 3"
    },
    "accelerator": "GPU"
  },
  "cells": [
    {
      "cell_type": "code",
      "metadata": {
        "id": "oJpycsN0nnGl",
        "colab": {
          "base_uri": "https://localhost:8080/"
        },
        "outputId": "2c539afe-2f57-4666-c72b-87a21ad6ebe3"
      },
      "source": [
        "!git clone https://github.com/oreilly-japan/deep-learning-from-scratch.git"
      ],
      "execution_count": null,
      "outputs": [
        {
          "output_type": "stream",
          "text": [
            "Cloning into 'deep-learning-from-scratch'...\n",
            "remote: Enumerating objects: 453, done.\u001b[K\n",
            "remote: Total 453 (delta 0), reused 0 (delta 0), pack-reused 453\u001b[K\n",
            "Receiving objects: 100% (453/453), 5.52 MiB | 31.92 MiB/s, done.\n",
            "Resolving deltas: 100% (235/235), done.\n"
          ],
          "name": "stdout"
        }
      ]
    },
    {
      "cell_type": "code",
      "metadata": {
        "id": "0rw0QP1Rn8Oy"
      },
      "source": [
        "import numpy as np\n",
        "import matplotlib.pyplot as plt\n",
        "import mnist "
      ],
      "execution_count": null,
      "outputs": []
    },
    {
      "cell_type": "markdown",
      "metadata": {
        "id": "sC4GTU17oSYH"
      },
      "source": [
        "多次元配列における数値微分"
      ]
    },
    {
      "cell_type": "code",
      "metadata": {
        "id": "OTLAFjyfnI-o"
      },
      "source": [
        "def numerical_grad(f,x):\n",
        "  h = 1e-4\n",
        " \n",
        "  grad = np.zeros_like(x)\n",
        "  for i in range(x.shape[0]):\n",
        "    if x.ndim == 1:\n",
        "      tmp_val = x[i]\n",
        "      x[i] = tmp_val + h\n",
        "      fx1 = f(x)\n",
        "\n",
        "      x[i] = tmp_val - h\n",
        "      fx2 = f(x)\n",
        "\n",
        "      grad[i] = (fx1-fx2) / (2*h)\n",
        "      x[i] = tmp_val\n",
        "\n",
        "    else:\n",
        "      for j in range(x.shape[1]):\n",
        "        tmp_val = x[i][j]\n",
        "        x[i][j] = tmp_val + h\n",
        "        fx1 = f(x)\n",
        "\n",
        "        x[i][j] = tmp_val - h\n",
        "        fx2 = f(x)\n",
        "\n",
        "        grad[i][j] = (fx1-fx2) / (2*h)\n",
        "        x[i][j] = tmp_val\n",
        "\n",
        "  \n",
        "  return grad\n",
        "\n",
        "    \n",
        "  "
      ],
      "execution_count": null,
      "outputs": []
    },
    {
      "cell_type": "code",
      "metadata": {
        "colab": {
          "base_uri": "https://localhost:8080/"
        },
        "id": "TYoIjw4tnl8a",
        "outputId": "e775f0e7-0125-4fcf-a3f1-0052982b048c"
      },
      "source": [
        "x = np.array([[1.,2.],[3.,4.]])\n",
        "def circle(x):\n",
        "  return np.sum(x**2)\n",
        "\n",
        "print(numerical_grad(circle,x))\n",
        "\n"
      ],
      "execution_count": null,
      "outputs": [
        {
          "output_type": "stream",
          "text": [
            "[[2. 4.]\n",
            " [6. 8.]]\n"
          ],
          "name": "stdout"
        }
      ]
    },
    {
      "cell_type": "markdown",
      "metadata": {
        "id": "rCnLApo2oXzC"
      },
      "source": [
        "クラス定義"
      ]
    },
    {
      "cell_type": "code",
      "metadata": {
        "id": "0_nbDEX4nk43"
      },
      "source": [
        "#次のようなクラスを作ってみる\n",
        "class Hoge:\n",
        "  def __init__(self):\n",
        "    self.hoge = -1\n",
        "  def progress(self,recent_score):\n",
        "    if self.hoge == -1:\n",
        "      print('初参加です')\n",
        "    elif recent_score > self.hoge:\n",
        "      print('Highestを更新しました')\n",
        "    else:\n",
        "      print('精進が足りないようです') \n",
        "\n",
        "    self.hoge = max([self.hoge,recent_score])   \n"
      ],
      "execution_count": null,
      "outputs": []
    },
    {
      "cell_type": "code",
      "metadata": {
        "colab": {
          "base_uri": "https://localhost:8080/"
        },
        "id": "2q2LPYCGxp3_",
        "outputId": "7be3ab2c-871e-4eed-a8f6-89ffe5cb847a"
      },
      "source": [
        "hoge = Hoge()\n",
        "hoge.progress(100)\n",
        "hoge.progress(300)\n",
        "hoge.progress(200)"
      ],
      "execution_count": null,
      "outputs": [
        {
          "output_type": "stream",
          "text": [
            "初参加です\n",
            "Highestを更新しました\n",
            "精進が足りないようです\n"
          ],
          "name": "stdout"
        }
      ]
    },
    {
      "cell_type": "code",
      "metadata": {
        "colab": {
          "base_uri": "https://localhost:8080/"
        },
        "id": "X8v5tKw4zw_K",
        "outputId": "93568aa7-3d10-4f7d-f5de-6d9c0fdde977"
      },
      "source": [
        "#勾配降下法のめちゃくちゃ単純なやつ\n",
        "#勾配計算\n",
        "def numerical_gradient_val(f,x,h = 1e-4):\n",
        "  return (f(x+h) - f(x-h))/ (2*h)\n",
        "\n",
        "#損失関数の代わり\n",
        "def circle(x,y):\n",
        "  return x ** 2 + y ** 2\n",
        "\n",
        "\n",
        "#勾配降下法\n",
        "lr = 0.1\n",
        "iters = 1000\n",
        "\n",
        "#初期値\n",
        "(x,y) = (10,10)\n",
        "\n",
        "#学習\n",
        "for i in range(iters):\n",
        "  #xで偏微分\n",
        "  circle_x = lambda x:circle(x,y)\n",
        "  dx = numerical_gradient_val(circle_x,x)\n",
        "\n",
        "  #yで偏微分\n",
        "  circle_y = lambda y:circle(x,y)\n",
        "  dy = numerical_gradient_val(circle_y,y)\n",
        "\n",
        "  #パラメータの更新\n",
        "  x -= lr*dx\n",
        "  y -= lr*dy\n",
        "\n",
        "print(x,y)\n"
      ],
      "execution_count": null,
      "outputs": [
        {
          "output_type": "stream",
          "text": [
            "6.6836193494284636e-21 6.6836193494284636e-21\n"
          ],
          "name": "stdout"
        }
      ]
    },
    {
      "cell_type": "code",
      "metadata": {
        "id": "20K_f6W-yPD0"
      },
      "source": [
        "#インスタンスを保持する場合\n",
        "#SGDをクラス化してみよう\n",
        "class SGD:\n",
        "  #ハイパーパラメータの格納\n",
        "  def __init__(self,learning_rate):\n",
        "      self.lr = learning_rate \n",
        "\n",
        "  #パラメータの更新    \n",
        "  def update(self,params,grads):\n",
        "    for i in range(len(params)):\n",
        "      params[i] -= self.lr * grads[i]\n"
      ],
      "execution_count": null,
      "outputs": []
    },
    {
      "cell_type": "code",
      "metadata": {
        "colab": {
          "base_uri": "https://localhost:8080/"
        },
        "id": "w5r3C9cQ1fRL",
        "outputId": "1b06f492-4c6e-4238-cfb3-8071d69c7d2a"
      },
      "source": [
        "params = [10,10]\n",
        "optimizer = SGD(learning_rate=0.1)\n",
        "for i in range(iters):\n",
        "  grads = []\n",
        "  for i in range(len(params)):\n",
        "    #勾配計算\n",
        "    x = params[i]\n",
        "    circle_x = lambda x:circle(x,y)\n",
        "    grads.append(numerical_gradient_val(circle_x,x))\n",
        "    \n",
        "  #パラメータの更新\n",
        "  optimizer.update(params,grads)\n",
        "\n",
        "print(params)    \n",
        "  "
      ],
      "execution_count": null,
      "outputs": [
        {
          "output_type": "stream",
          "text": [
            "[6.696854239229312e-21, 6.696854239229312e-21]\n"
          ],
          "name": "stdout"
        }
      ]
    },
    {
      "cell_type": "markdown",
      "metadata": {
        "id": "efWpJxF2of5E"
      },
      "source": [
        "ニューラルネットワークのクラス実装"
      ]
    },
    {
      "cell_type": "code",
      "metadata": {
        "id": "wTrk-iaq0evi"
      },
      "source": [
        "def sigmoid(x):\n",
        "  return 1/(1+np.exp(-x))\n",
        "def softmax(x):\n",
        "  x = x - np.max(x, axis=-1, keepdims=True)   \n",
        "  return np.exp(x) / np.sum(np.exp(x), axis=-1, keepdims=True)  \n",
        "def cross_entropy_error(y, t):\n",
        "  if y.ndim == 1:\n",
        "      t = t.reshape(1, t.size)\n",
        "      y = y.reshape(1, y.size)\n",
        "        \n",
        "  if t.size == y.size:\n",
        "      t = t.argmax(axis=1)\n",
        "             \n",
        "  batch_size = y.shape[0]\n",
        "  return -np.sum(np.log(y[np.arange(batch_size), t] + 1e-7)) / batch_size\n"
      ],
      "execution_count": null,
      "outputs": []
    },
    {
      "cell_type": "code",
      "metadata": {
        "id": "E6oixYoTA6KO"
      },
      "source": [
        "(x_train,t_train),(x_test,t_test) = mnist.load_mnist(normalize=True,flatten=True,one_hot_label=True)\n"
      ],
      "execution_count": null,
      "outputs": []
    },
    {
      "cell_type": "code",
      "metadata": {
        "id": "SFlRcWlooihD"
      },
      "source": [
        "#中間層ノード数50の、mnist画像解析用2層NNを実装してください。\n",
        "#名称は、すでに指示があるものについてはそれに従い、指示のないものはできるだけ見やすいものにしてください（競プロコードだと泣いてしまいます）\n",
        "\n",
        "class TwoLayerNet:\n",
        "  def __init__(self,weight_init_std = 0.01,input_size = 784,middle_size=50,output_size=10):\n",
        "  #====インスタンスを格納してください====\n",
        "    self.weight_init_std = weight_init_std\n",
        "    self.input_size = input_size\n",
        "    self.middele_size = middle_size\n",
        "    self.output_size = output_size\n",
        "    self.params = {}\n",
        "\n",
        "   #ハイパーパラメータを渡してください\n",
        "   #パラメータDictを保持してください\n",
        "   #パラメータ初期値は、重みW1,W2: 標準偏差=weight_init_std の正規分布に設定してください\n",
        "                #バイアスb1,b2: ゼロ行列に設定してください\n",
        "    self.params['w1'] = weight_init_std*np.random.randn(input_size,middle_size)\n",
        "    self.params['w2'] = weight_init_std*np.random.randn(middle_size,output_size)\n",
        "    self.params['b1'] = weight_init_std*np.zeros(middle_size)\n",
        "    self.params['b2'] = weight_init_std*np.zeros(output_size)\n",
        "\n",
        "  #=================================\n",
        "\n",
        "  #必要な関数（スライド参照）を定義してください\n",
        "  def predict(self,x):\n",
        "      w1,b1,w2,b2 = self.params['w1'],self.params['b1'],self.params['w2'],self.params['b2']\n",
        "      a1 = np.dot(x,w1)+b1\n",
        "      z1 = sigmoid(a1)\n",
        "      a2 = np.dot(z1,w2)+b2\n",
        "      z2 = sigmoid(a2)\n",
        "      y = softmax(z2)\n",
        "      return y\n",
        "\n",
        "  def loss(self,x,t):\n",
        "      y = self.predict(x)\n",
        "      return cross_entropy_error(y,t)  \n",
        "\n",
        "  def numerical_grad(self,x,t):\n",
        "      loss = lambda w: self.loss(x,t)\n",
        "      grads = {}\n",
        "      grads['w1'] = numerical_grad(loss,self.params['w1'])\n",
        "      grads['w2'] = numerical_grad(loss,self.params['w2'])\n",
        "      grads['b1'] = numerical_grad(loss,self.params['b1'])\n",
        "      grads['b2'] = numerical_grad(loss,self.params['b2'])\n",
        "\n",
        "      return grads\n",
        "\n",
        "  def accuracy(self,x,t):\n",
        "      y = self.predict(x,t)\n",
        "      y = np.argmax(y, axis=1)\n",
        "      if t.ndim != 1:\n",
        "        t = np.argmax(t, axis=1)\n",
        "      accuracy = np.sum(y == t) / x.shape[0]\n",
        "      return accuracy \n",
        "\n",
        "\n",
        "        \n",
        "\n",
        "\n"
      ],
      "execution_count": null,
      "outputs": []
    },
    {
      "cell_type": "markdown",
      "metadata": {
        "id": "QrOy-JqSq1LV"
      },
      "source": [
        "学習"
      ]
    },
    {
      "cell_type": "code",
      "metadata": {
        "id": "brsRMTXqq20p",
        "colab": {
          "base_uri": "https://localhost:8080/",
          "height": 232
        },
        "outputId": "e100270d-2eb9-4d44-ad12-bfc2f3e61dac"
      },
      "source": [
        "epochs = 10\n",
        "train_size = 60000\n",
        "batch_size = 100\n",
        "learning_rate = 0.1\n",
        "NN = TwoLayerNet(input_size = 784,middle_size=50,output_size=10)\n",
        "\n",
        "\n",
        "\n",
        "#====データをロードしてください====\n",
        "\n",
        "\n",
        "train_loss_list = []\n",
        "train_acc_list = []\n",
        "test_acc_list = []\n",
        "iters_per_epoch = train_size//batch_size\n",
        "#学習\n",
        "for epoch in range(epochs):\n",
        "  for iter in range(iters_per_epoch):\n",
        "    #====スライドに従って学習を行ってください====\n",
        "    #バッチ抽出\n",
        "    batch_mask = np.random.choice(train_size,batch_size)\n",
        "    x_batch = x_train[batch_mask]\n",
        "    t_batch = t_train[batch_mask]\n",
        "\n",
        "    loss = NN.loss(x_batch,t_batch)\n",
        "    grads = NN.numerical_grad(x_batch,t_batch)\n",
        "\n",
        "    NN.params['w1'] -= learning_rate*grads['w1']\n",
        "    NN.params['b1'] -= learning_rate*grads['b1']\n",
        "    NN.params['w2'] -= learning_rate*grads['w2']\n",
        "    NN.params['b2'] -= learning_rate*grads['b2']\n",
        "    #======================================\n",
        "    print('======= iters'+iter+'=======')\n",
        "    print(loss)\n",
        "    print(train_acc)\n",
        "    print(test_acc)\n",
        "\n",
        "  #====途中過程をtrain_loss_list,train_acc_list,test_acc_listに格納してください====\n",
        "  train_loss_list.append(loss)\n",
        "\n",
        "  train_acc = NN.accuracy(x_train,t_train)\n",
        "  test_acc = NN.accracy(x_train,t_train)\n",
        "  train_acc_list.append(train_acc)\n",
        "  test_acc_list.append(test_acc)\n",
        "  \n",
        "\n",
        "\n",
        "#ちゃんと出力されたらOK\n",
        "print('loss:',train_loss_list[-1])\n",
        "print('train_acc:',train_acc_list[-1])  \n",
        "print('test_acc:',test_acc_list[-1])"
      ],
      "execution_count": null,
      "outputs": [
        {
          "output_type": "error",
          "ename": "NameError",
          "evalue": "ignored",
          "traceback": [
            "\u001b[0;31m---------------------------------------------------------------------------\u001b[0m",
            "\u001b[0;31mNameError\u001b[0m                                 Traceback (most recent call last)",
            "\u001b[0;32m<ipython-input-1-19301d74b147>\u001b[0m in \u001b[0;36m<module>\u001b[0;34m()\u001b[0m\n\u001b[1;32m      3\u001b[0m \u001b[0mbatch_size\u001b[0m \u001b[0;34m=\u001b[0m \u001b[0;36m100\u001b[0m\u001b[0;34m\u001b[0m\u001b[0;34m\u001b[0m\u001b[0m\n\u001b[1;32m      4\u001b[0m \u001b[0mlearning_rate\u001b[0m \u001b[0;34m=\u001b[0m \u001b[0;36m0.1\u001b[0m\u001b[0;34m\u001b[0m\u001b[0;34m\u001b[0m\u001b[0m\n\u001b[0;32m----> 5\u001b[0;31m \u001b[0mNN\u001b[0m \u001b[0;34m=\u001b[0m \u001b[0mTwoLayerNet\u001b[0m\u001b[0;34m(\u001b[0m\u001b[0minput_size\u001b[0m \u001b[0;34m=\u001b[0m \u001b[0;36m784\u001b[0m\u001b[0;34m,\u001b[0m\u001b[0mmiddle_size\u001b[0m\u001b[0;34m=\u001b[0m\u001b[0;36m50\u001b[0m\u001b[0;34m,\u001b[0m\u001b[0moutput_size\u001b[0m\u001b[0;34m=\u001b[0m\u001b[0;36m10\u001b[0m\u001b[0;34m)\u001b[0m\u001b[0;34m\u001b[0m\u001b[0;34m\u001b[0m\u001b[0m\n\u001b[0m\u001b[1;32m      6\u001b[0m \u001b[0;34m\u001b[0m\u001b[0m\n\u001b[1;32m      7\u001b[0m \u001b[0;34m\u001b[0m\u001b[0m\n",
            "\u001b[0;31mNameError\u001b[0m: name 'TwoLayerNet' is not defined"
          ]
        }
      ]
    },
    {
      "cell_type": "markdown",
      "metadata": {
        "id": "dx2wdoc8r6Ao"
      },
      "source": [
        "可視化"
      ]
    },
    {
      "cell_type": "code",
      "metadata": {
        "id": "uMVtPaX4sIja"
      },
      "source": [
        "x = np.arange(1,epochs+1)\n",
        "\n",
        "plt.plot(x,train_loss_list)\n",
        "plt.xlabel('epoch')\n",
        "plt.ylabel('loss')\n",
        "plt.show()\n",
        "\n",
        "plt.plot(x,train_acc_list,'b',label='trsin')\n",
        "plt.plot(x,test_acc_list,'r',label='test')\n",
        "plt.xlabel('epoch')\n",
        "plt.ylabel('loss')\n",
        "plt.legend()\n",
        "plt.show()\n"
      ],
      "execution_count": null,
      "outputs": []
    }
  ]
}